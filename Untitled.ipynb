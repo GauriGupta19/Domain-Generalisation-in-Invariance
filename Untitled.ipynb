{
 "cells": [
  {
   "cell_type": "code",
   "execution_count": 1,
   "id": "d375e794-cc51-4345-84e3-fee13c3bfa2d",
   "metadata": {
    "tags": []
   },
   "outputs": [],
   "source": [
    "from typing import Optional, Tuple, Type, Union\n",
    "\n",
    "import matplotlib.pyplot as plt\n",
    "import seaborn as sns\n",
    "import numpy as np\n",
    "import pyro\n",
    "import pyro.distributions as dist\n",
    "import pyro.infer as infer\n",
    "import pyro.optim as optim\n",
    "import torch\n",
    "import torch.nn as nn\n",
    "from scipy.stats import norm\n",
    "from torchvision import datasets, transforms\n",
    "from torchvision.utils import make_grid\n",
    "\n",
    "import medmnist\n",
    "\n",
    "import warnings\n",
    "warnings.filterwarnings(\"ignore\", module=\"torchvision.datasets\")"
   ]
  },
  {
   "cell_type": "code",
   "execution_count": 2,
   "id": "dbb44782-97c5-44f7-aa94-52da2099c59e",
   "metadata": {
    "tags": []
   },
   "outputs": [],
   "source": [
    "from src.models import *\n",
    "from src.functions import *\n",
    "from src.data import *\n",
    "from src.rvae import *\n",
    "from src.trainer import *\n",
    "from src.classifier import *\n",
    "from src.steps import *"
   ]
  },
  {
   "cell_type": "code",
   "execution_count": 3,
   "id": "98a5a3d7-ecb6-4bf7-91d9-c31bd082acdc",
   "metadata": {
    "tags": []
   },
   "outputs": [],
   "source": [
    "%load_ext autoreload\n",
    "%autoreload 3"
   ]
  },
  {
   "cell_type": "code",
   "execution_count": 4,
   "id": "45eb08fc-0b9a-41d5-a6d8-0fe96b39e85b",
   "metadata": {
    "tags": []
   },
   "outputs": [
    {
     "name": "stdout",
     "output_type": "stream",
     "text": [
      "Using downloaded and verified file: data/MedMNIST/pathmnist.npz\n",
      "Using downloaded and verified file: data/MedMNIST/pathmnist.npz\n"
     ]
    }
   ],
   "source": [
    "path_trainset = medmnist.PathMNIST(root='data/MedMNIST/', split='train', download=True)\n",
    "path_testset = medmnist.PathMNIST(root='data/MedMNIST/', split='test', download=True)"
   ]
  },
  {
   "cell_type": "code",
   "execution_count": 5,
   "id": "1bb121aa-9e8a-4c78-aec1-3b262a78c6b1",
   "metadata": {
    "tags": []
   },
   "outputs": [
    {
     "name": "stdout",
     "output_type": "stream",
     "text": [
      "True\n",
      "1.12.0+cu113\n",
      "8\n"
     ]
    }
   ],
   "source": [
    "print(torch.cuda.is_available())\n",
    "print(torch.__version__)\n",
    "print(torch.cuda.device_count())"
   ]
  },
  {
   "cell_type": "code",
   "execution_count": 6,
   "id": "4778de60-4544-4901-8823-e278af8f0bd6",
   "metadata": {
    "tags": []
   },
   "outputs": [
    {
     "name": "stderr",
     "output_type": "stream",
     "text": [
      "/u/jcob/Domain-Generalisation-in-Invariance/src/data.py:74: UserWarning: Creating a tensor from a list of numpy.ndarrays is extremely slow. Please consider converting the list to a single numpy.ndarray with numpy.array() before converting to a tensor. (Triggered internally at  ../torch/csrc/utils/tensor_new.cpp:201.)\n",
      "  return torch.cat(data), torch.tensor(labels), torch.tensor(angles), torch.tensor(shifts)\n",
      "/usr/local/lib/python3.10/dist-packages/torch/functional.py:478: UserWarning: torch.meshgrid: in an upcoming release, it will be required to pass the indexing argument. (Triggered internally at  ../aten/src/ATen/native/TensorShape.cpp:2894.)\n",
      "  return _VF.meshgrid(tensors, **kwargs)  # type: ignore[attr-defined]\n",
      "100%|██████████████████████████████████████████████████████| 100/100 [26:22<00:00, 15.82s/it]\n"
     ]
    },
    {
     "name": "stdout",
     "output_type": "stream",
     "text": [
      "Epoch: 100 Training loss: 405.5333\n"
     ]
    },
    {
     "name": "stderr",
     "output_type": "stream",
     "text": [
      "100%|██████████████████████████████████████████████████████| 100/100 [39:41<00:00, 23.82s/it]\n"
     ]
    },
    {
     "name": "stdout",
     "output_type": "stream",
     "text": [
      "Epoch: 100 Training loss: 405.5397\n"
     ]
    },
    {
     "name": "stderr",
     "output_type": "stream",
     "text": [
      "100%|██████████████████████████████████████████████████████| 100/100 [38:22<00:00, 23.03s/it]\n"
     ]
    },
    {
     "name": "stdout",
     "output_type": "stream",
     "text": [
      "Epoch: 100 Training loss: 409.9517\n"
     ]
    },
    {
     "name": "stderr",
     "output_type": "stream",
     "text": [
      "100%|██████████████████████████████████████████████████████| 100/100 [40:59<00:00, 24.60s/it]"
     ]
    },
    {
     "name": "stdout",
     "output_type": "stream",
     "text": [
      "Epoch: 100 Training loss: 407.8977\n"
     ]
    },
    {
     "name": "stderr",
     "output_type": "stream",
     "text": [
      "\n"
     ]
    }
   ],
   "source": [
    "# Train on half of labels for ROC curves\n",
    "\n",
    "# j = data_coord\n",
    "# i = model_coord\n",
    "\n",
    "# each model saved to 'saved_models/pathj_i_4.pkl'\n",
    "\n",
    "for j in [3]:\n",
    "    for i in [0,1,2,3]:\n",
    "        # continue\n",
    "        train_vae(path_trainset, f'path{j}_{i}_4', j, i, [0,1,2,3,4])"
   ]
  }
 ],
 "metadata": {
  "kernelspec": {
   "display_name": "Python 3 (ipykernel)",
   "language": "python",
   "name": "python3"
  },
  "language_info": {
   "codemirror_mode": {
    "name": "ipython",
    "version": 3
   },
   "file_extension": ".py",
   "mimetype": "text/x-python",
   "name": "python",
   "nbconvert_exporter": "python",
   "pygments_lexer": "ipython3",
   "version": "3.10.6"
  }
 },
 "nbformat": 4,
 "nbformat_minor": 5
}
