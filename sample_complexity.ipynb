{
 "cells": [
  {
   "cell_type": "markdown",
   "metadata": {
    "id": "iA0nbxY9fu5Q"
   },
   "source": [
    "# Invariant VAE and sample complexity"
   ]
  },
  {
   "cell_type": "code",
   "execution_count": 1,
   "metadata": {
    "cellView": "form",
    "colab": {
     "base_uri": "https://localhost:8080/"
    },
    "id": "0kKilarHepi-",
    "outputId": "ee156287-0db6-44d4-db0f-01a51be921b6"
   },
   "outputs": [
    {
     "name": "stderr",
     "output_type": "stream",
     "text": [
      "/home/gridsan/ggupta/.conda/envs/my_env/lib/python3.8/site-packages/tqdm/auto.py:22: TqdmWarning: IProgress not found. Please update jupyter and ipywidgets. See https://ipywidgets.readthedocs.io/en/stable/user_install.html\n",
      "  from .autonotebook import tqdm as notebook_tqdm\n"
     ]
    }
   ],
   "source": [
    "#@title Installation and Imports\n",
    "\n",
    "# !pip install -qq pyro-ppl\n",
    "\n",
    "from typing import Optional, Tuple, Type, Union\n",
    "\n",
    "import matplotlib.pyplot as plt\n",
    "import seaborn as sns\n",
    "import numpy as np\n",
    "import pyro\n",
    "import pyro.distributions as dist\n",
    "import pyro.infer as infer\n",
    "import pyro.optim as optim\n",
    "import torch\n",
    "import torch.nn as nn\n",
    "from scipy.stats import norm\n",
    "from torchvision import datasets, transforms\n",
    "from torchvision.utils import make_grid\n",
    "\n",
    "import warnings\n",
    "warnings.filterwarnings(\"ignore\", module=\"torchvision.datasets\")"
   ]
  },
  {
   "cell_type": "code",
   "execution_count": 2,
   "metadata": {},
   "outputs": [],
   "source": [
    "from src.rvae import *\n",
    "from src.models import *\n",
    "from src.functions import *\n",
    "from src.trainer import *\n",
    "from src.data import *\n",
    "from src.classifier import *"
   ]
  },
  {
   "cell_type": "markdown",
   "metadata": {
    "id": "BiPEbSY_hb-u"
   },
   "source": [
    "Get rotated MNIST data and pass it to dataloader that will be used for (r)VAE training:"
   ]
  },
  {
   "cell_type": "code",
   "execution_count": 3,
   "metadata": {
    "colab": {
     "base_uri": "https://localhost:8080/"
    },
    "id": "wuCORTZLg62S",
    "outputId": "5f09c4f8-ca52-4ad3-d91c-d5ae7e15b3bb"
   },
   "outputs": [],
   "source": [
    "mnist_trainset = datasets.MNIST('data/mnist/', train=True, download=True)\n",
    "mnist_testset = datasets.MNIST('data/mnist/', train=False, download=True)\n",
    "train_data, train_labels, train_angles = get_rotated_mnist(mnist_trainset, rotation_range=[-60, 61])\n",
    "test_data, test_labels, test_angles = get_rotated_mnist(mnist_testset, rotation_range=[-60, 61])\n",
    "train_loader = init_dataloader(train_data, batch_size=100)\n",
    "test_loader = init_dataloader(test_data, batch_size=100)\n",
    "# train_loader = init_dataloader(train_data, batch_size=200)"
   ]
  },
  {
   "cell_type": "code",
   "execution_count": 4,
   "metadata": {},
   "outputs": [
    {
     "name": "stdout",
     "output_type": "stream",
     "text": [
      "cuda\n"
     ]
    }
   ],
   "source": [
    "print(device)"
   ]
  },
  {
   "cell_type": "markdown",
   "metadata": {
    "tags": []
   },
   "source": [
    "## Vanilla VAE"
   ]
  },
  {
   "cell_type": "code",
   "execution_count": 6,
   "metadata": {},
   "outputs": [],
   "source": [
    "mnist_trainset = datasets.MNIST('data/mnist/', train=True, download=True)\n",
    "mnist_testset = datasets.MNIST('data/mnist/', train=False, download=True)"
   ]
  },
  {
   "cell_type": "code",
   "execution_count": 7,
   "metadata": {},
   "outputs": [],
   "source": [
    "def train_vae(path, latent_dim, n_samples):\n",
    "    train_data, train_labels, train_angles = get_rotated_mnist_sample(mnist_trainset, n_samples = n_samples, rotation_range=[-60, 61])\n",
    "    train_loader = init_dataloader(train_data, batch_size=100)\n",
    "\n",
    "    in_dim = (28, 28)\n",
    "    # Initialize probabilistic VAE model ->\n",
    "    # (coord=0: vanilla VAE\n",
    "    #  coord=1: rotations only\n",
    "    #  coord=2: translations only\n",
    "    #  coord=3: rotations+translations)\n",
    "    vae = rVAE(in_dim, latent_dim=latent_dim, coord=0, seed=0)\n",
    "\n",
    "    # # Initialize SVI trainer\n",
    "    trainer = SVItrainer(vae)\n",
    "    # Train for n epochs:\n",
    "    for e in range(100):\n",
    "        trainer.step(train_loader)\n",
    "#         trainer.print_statistics()\n",
    "    trainer.save_model(vae, path)"
   ]
  },
  {
   "cell_type": "code",
   "execution_count": 8,
   "metadata": {
    "tags": []
   },
   "outputs": [],
   "source": [
    "%%capture cap_f1\n",
    "# train_vae('saved_models/vae_rotation_z_100_samples_200.pkl', 100, 200)\n",
    "# train_vae('saved_models/vae_rotation_z_100_samples_1000.pkl', 100, 1000)\n",
    "# train_vae('saved_models/vae_rotation_z_100_samples_2000.pkl', 100, 2000)\n",
    "# train_vae('saved_models/vae_rotation_z_100_samples_3000.pkl', 100, 3000)\n",
    "# train_vae('saved_models/vae_rotation_z_100_samples_4000.pkl', 100, 4000)\n",
    "# train_vae('saved_models/vae_rotation_z_100_samples_5000.pkl', 100, 5000)\n",
    "# train_vae('saved_models/vae_rotation_z_100_samples_6000.pkl', 100, 6000)\n",
    "\n",
    "# train_vae('saved_models/vae_rotation_z_10_samples_200.pkl', 10, 200)\n",
    "# train_vae('saved_models/vae_rotation_z_10_samples_1000.pkl', 10, 1000)\n",
    "# train_vae('saved_models/vae_rotation_z_10_samples_2000.pkl', 10, 2000)\n",
    "# train_vae('saved_models/vae_rotation_z_10_samples_3000.pkl', 10, 3000)\n",
    "# train_vae('saved_models/vae_rotation_z_10_samples_4000.pkl', 10, 4000)\n",
    "# train_vae('saved_models/vae_rotation_z_10_samples_5000.pkl', 10, 5000)\n",
    "# train_vae('saved_models/vae_rotation_z_10_samples_6000.pkl', 10, 6000)\n",
    "\n",
    "# train_vae('saved_models/vae_rotation_z_2_samples_200.pkl', 2, 200)\n",
    "# train_vae('saved_models/vae_rotation_z_2_samples_1000.pkl', 2, 1000)\n",
    "# train_vae('saved_models/vae_rotation_z_2_samples_2000.pkl', 2, 2000)\n",
    "# train_vae('saved_models/vae_rotation_z_2_samples_3000.pkl', 2, 3000)\n",
    "# train_vae('saved_models/vae_rotation_z_2_samples_4000.pkl', 2, 4000)\n",
    "# train_vae('saved_models/vae_rotation_z_2_samples_5000.pkl', 2, 5000)\n",
    "# train_vae('saved_models/vae_rotation_z_2_samples_6000.pkl', 2, 6000)"
   ]
  },
  {
   "cell_type": "code",
   "execution_count": 9,
   "metadata": {},
   "outputs": [],
   "source": [
    "import pickle\n",
    "mnist_trainset = datasets.MNIST('data/mnist/', train=True, download=True)\n",
    "mnist_testset = datasets.MNIST('data/mnist/', train=False, download=True)\n",
    "device = 'cpu'\n",
    "def train_classifier_vae(latent_dim, n_samples, path_vae, results_path):\n",
    "#     mnist_train = datasets.MNIST('data/mnist/', train=True, download=True, transform=transforms.Compose([transforms.ToTensor()]))\n",
    "#     mnist_test = datasets.MNIST('data/mnist/', train=False, download=True, transform=transforms.Compose([transforms.ToTensor()]))\n",
    "    train_data, train_labels, train_angles = get_rotated_mnist_sample(mnist_trainset, n_samples = n_samples, rotation_range=[-60, 61])\n",
    "    test_data, test_labels, test_angles = get_rotated_mnist_sample(mnist_testset, n_samples = n_samples, rotation_range=[-60, 61])\n",
    "    trainset = [[train_data[i], train_labels[i]] for i in range(len(train_data))]\n",
    "    testset = [[test_data[i], test_labels[i]] for i in range(len(test_data))]\n",
    "        \n",
    "    model = MLP(in_channels= latent_dim)\n",
    "    model.to(device)\n",
    "    \n",
    "    in_dim = (28, 28)\n",
    "    vae = rVAE(in_dim, latent_dim=latent_dim, coord=0, seed=0)\n",
    "    trainer = SVItrainer(vae)\n",
    "    trainer.load_model(vae, path_vae)\n",
    "    mlp_mnist_results = train_nn(model, vae, trainset, testset, num_epochs = 100)\n",
    "    with open(results_path, 'wb') as handle:\n",
    "        pickle.dump(mlp_mnist_results, handle, protocol=pickle.HIGHEST_PROTOCOL)\n",
    "#     torch.save(model.state_dict(), 'saved_models/vae_rotated_mnist_classifier.pkl')    \n",
    "#     with open('saved_models/dict_vae_rotated_mnist_classifier.pkl', 'rb') as handle:\n",
    "#         results = pickle.load(handle)\n",
    "#     model.load_state_dict(torch.load('saved_models/vae_rotated_mnist_classifier.pkl'))\n"
   ]
  },
  {
   "cell_type": "code",
   "execution_count": 10,
   "metadata": {},
   "outputs": [],
   "source": [
    "%%capture cap_f1\n",
    "# train_classifier_vae(100, 200, 'saved_models/vae_rotation_z_100_samples_200.pkl', 'saved_models/dict_vae_z_100_rotated_classifier_200.pkl')\n",
    "# train_classifier_vae(100, 1000, 'saved_models/vae_rotation_z_100_samples_1000.pkl', 'saved_models/dict_vae_z_100_rotated_classifier_1000.pkl')\n",
    "train_classifier_vae(100, 2000, 'saved_models/vae_rotation_z_100_samples_2000.pkl', 'saved_models/dict_vae_z_100_rotated_classifier_2000.pkl')\n",
    "# train_classifier_vae(100, 3000, 'saved_models/vae_rotation_z_100_samples_3000.pkl', 'saved_models/dict_vae_z_100_rotated_classifier_3000.pkl')\n",
    "# train_classifier_vae(100, 4000, 'saved_models/vae_rotation_z_100_samples_4000.pkl', 'saved_models/dict_vae_z_100_rotated_classifier_4000.pkl')\n",
    "# train_classifier_vae(100, 5000, 'saved_models/vae_rotation_z_100_samples_5000.pkl', 'saved_models/dict_vae_z_100_rotated_classifier_5000.pkl')\n",
    "# train_classifier_vae(100, 6000, 'saved_models/vae_rotation_z_100_samples_6000.pkl', 'saved_models/dict_vae_z_100_rotated_classifier_6000.pkl')\n",
    "\n",
    "# train_classifier_vae(10, 200, 'saved_models/vae_rotation_z_10_samples_200.pkl', 'saved_models/dict_vae_z_10_rotated_classifier_200.pkl')\n",
    "# train_classifier_vae(10, 1000, 'saved_models/vae_rotation_z_10_samples_1000.pkl', 'saved_models/dict_vae_z_10_rotated_classifier_1000.pkl')\n",
    "# train_classifier_vae(10, 2000, 'saved_models/vae_rotation_z_10_samples_2000.pkl', 'saved_models/dict_vae_z_10_rotated_classifier_2000.pkl')\n",
    "# train_classifier_vae(10, 3000, 'saved_models/vae_rotation_z_10_samples_3000.pkl', 'saved_models/dict_vae_z_10_rotated_classifier_3000.pkl')\n",
    "# train_classifier_vae(10, 4000, 'saved_models/vae_rotation_z_10_samples_4000.pkl', 'saved_models/dict_vae_z_10_rotated_classifier_4000.pkl')\n",
    "# train_classifier_vae(10, 5000, 'saved_models/vae_rotation_z_10_samples_5000.pkl', 'saved_models/dict_vae_z_10_rotated_classifier_5000.pkl')\n",
    "# train_classifier_vae(10, 6000, 'saved_models/vae_rotation_z_10_samples_6000.pkl', 'saved_models/dict_vae_z_10_rotated_classifier_6000.pkl')\n",
    "\n",
    "# train_classifier_vae(2, 200, 'saved_models/vae_rotation_z_2_samples_200.pkl', 'saved_models/dict_vae_z_2_rotated_classifier_200.pkl')\n",
    "# train_classifier_vae(2, 1000, 'saved_models/vae_rotation_z_2_samples_1000.pkl', 'saved_models/dict_vae_z_2_rotated_classifier_1000.pkl')\n",
    "# train_classifier_vae(2, 2000, 'saved_models/vae_rotation_z_2_samples_2000.pkl', 'saved_models/dict_vae_z_2_rotated_classifier_2000.pkl')\n",
    "# train_classifier_vae(2, 3000, 'saved_models/vae_rotation_z_2_samples_3000.pkl', 'saved_models/dict_vae_z_2_rotated_classifier_3000.pkl')\n",
    "# train_classifier_vae(2, 4000, 'saved_models/vae_rotation_z_2_samples_4000.pkl', 'saved_models/dict_vae_z_2_rotated_classifier_4000.pkl')\n",
    "# train_classifier_vae(2, 5000, 'saved_models/vae_rotation_z_2_samples_5000.pkl', 'saved_models/dict_vae_z_2_rotated_classifier_5000.pkl')\n",
    "# train_classifier_vae(2, 6000, 'saved_models/vae_rotation_z_2_samples_6000.pkl', 'saved_models/dict_vae_z_2_rotated_classifier_6000.pkl')\n"
   ]
  },
  {
   "cell_type": "code",
   "execution_count": null,
   "metadata": {
    "tags": []
   },
   "outputs": [],
   "source": []
  },
  {
   "cell_type": "markdown",
   "metadata": {
    "id": "EcjW5x-ofXsh",
    "tags": []
   },
   "source": [
    "## Rotationally-invariant VAE (rVAE)"
   ]
  },
  {
   "cell_type": "code",
   "execution_count": 10,
   "metadata": {},
   "outputs": [],
   "source": [
    "mnist_trainset = datasets.MNIST('data/mnist/', train=True, download=True)\n",
    "mnist_testset = datasets.MNIST('data/mnist/', train=False, download=True)"
   ]
  },
  {
   "cell_type": "code",
   "execution_count": 11,
   "metadata": {},
   "outputs": [],
   "source": [
    "def train_rvae(path, latent_dim, n_samples):\n",
    "    train_data, train_labels, train_angles = get_rotated_mnist_sample(mnist_trainset, n_samples = n_samples, rotation_range=[-60, 61])\n",
    "    train_loader = init_dataloader(train_data, batch_size=100)\n",
    "\n",
    "    in_dim = (28, 28)\n",
    "    # Initialize probabilistic VAE model ->\n",
    "    # (coord=0: vanilla VAE\n",
    "    #  coord=1: rotations only\n",
    "    #  coord=2: translations only\n",
    "    #  coord=3: rotations+translations)\n",
    "    rvae = rVAE(in_dim, latent_dim=latent_dim, coord=1, seed=0)\n",
    "\n",
    "    # # Initialize SVI trainer\n",
    "    trainer = SVItrainer(rvae)\n",
    "    # Train for n epochs:\n",
    "    for e in range(100):\n",
    "        trainer.step(train_loader)\n",
    "#         trainer.print_statistics()\n",
    "    trainer.save_model(rvae, path)"
   ]
  },
  {
   "cell_type": "code",
   "execution_count": null,
   "metadata": {},
   "outputs": [],
   "source": [
    "# train_rvae('saved_models/rvae_rotation_z_100_samples_200.pkl', 100, 200)\n",
    "# train_rvae('saved_models/rvae_rotation_z_100_samples_1000.pkl', 100, 1000)\n",
    "# train_rvae('saved_models/rvae_rotation_z_100_samples_2000.pkl', 100, 2000)\n",
    "# train_rvae('saved_models/rvae_rotation_z_100_samples_3000.pkl', 100, 3000)\n",
    "# train_rvae('saved_models/rvae_rotation_z_100_samples_4000.pkl', 100, 4000)\n",
    "# train_rvae('saved_models/rvae_rotation_z_100_samples_5000.pkl', 100, 5000)\n",
    "# train_rvae('saved_models/rvae_rotation_z_100_samples_6000.pkl', 100, 6000)\n",
    "\n",
    "# train_rvae('saved_models/rvae_rotation_z_10_samples_200.pkl', 10, 200)\n",
    "# train_rvae('saved_models/rvae_rotation_z_10_samples_1000.pkl', 10, 1000)\n",
    "# train_rvae('saved_models/rvae_rotation_z_10_samples_2000.pkl', 10, 2000)\n",
    "# train_rvae('saved_models/rvae_rotation_z_10_samples_3000.pkl', 10, 3000)\n",
    "# train_rvae('saved_models/rvae_rotation_z_10_samples_4000.pkl', 10, 4000)\n",
    "# train_rvae('saved_models/rvae_rotation_z_10_samples_5000.pkl', 10, 5000)\n",
    "# train_rvae('saved_models/rvae_rotation_z_10_samples_6000.pkl', 10, 6000)\n",
    "\n",
    "train_rvae('saved_models/rvae_rotation_z_2_samples_200.pkl', 2, 200)\n",
    "train_rvae('saved_models/rvae_rotation_z_2_samples_1000.pkl', 2, 1000)\n",
    "train_rvae('saved_models/rvae_rotation_z_2_samples_2000.pkl', 2, 2000)\n",
    "train_rvae('saved_models/rvae_rotation_z_2_samples_3000.pkl', 2, 3000)\n",
    "train_rvae('saved_models/rvae_rotation_z_2_samples_4000.pkl', 2, 4000)\n",
    "train_rvae('saved_models/rvae_rotation_z_2_samples_5000.pkl', 2, 5000)\n",
    "train_rvae('saved_models/rvae_rotation_z_2_samples_6000.pkl', 2, 6000)"
   ]
  },
  {
   "cell_type": "code",
   "execution_count": null,
   "metadata": {},
   "outputs": [],
   "source": [
    "import pickle\n",
    "mnist_trainset = datasets.MNIST('data/mnist/', train=True, download=True)\n",
    "mnist_testset = datasets.MNIST('data/mnist/', train=False, download=True)\n",
    "\n",
    "def train_classifier_rave(latent_dim, n_samples, path_rvae, results_path):\n",
    "    # mnist_train = datasets.MNIST('data/mnist/', train=True, download=True, transform=transforms.Compose([transforms.ToTensor()]))\n",
    "    # mnist_test = datasets.MNIST('data/mnist/', train=False, download=True, transform=transforms.Compose([transforms.ToTensor()]))\n",
    "    mnist_trainset = datasets.MNIST('data/mnist/', train=True, download=True)\n",
    "    mnist_testset = datasets.MNIST('data/mnist/', train=False, download=True)\n",
    "    train_data, train_labels, train_angles = get_rotated_mnist_sample(mnist_trainset, n_samples = n_samples, rotation_range=[-60, 61])\n",
    "    test_data, test_labels, test_angles = get_rotated_mnist_sample(mnist_testset, n_samples = n_samples, rotation_range=[-60, 61])\n",
    "    mnist_trainset = [[train_data[i], train_labels[i]] for i in range(len(train_data))]\n",
    "    mnist_testset = [[test_data[i], test_labels[i]] for i in range(len(test_data))]\n",
    "    \n",
    "    \n",
    "    model = MLP(in_channels=latent_dim)\n",
    "    model.to(device)\n",
    "    \n",
    "    in_dim = (28, 28)\n",
    "    rvae = rVAE(in_dim, latent_dim=latent_dim, coord=1, seed=0)\n",
    "    trainer = SVItrainer(rvae)\n",
    "    trainer.load_model(rvae, path_rvae)\n",
    "    mlp_mnist_results = train_nn(model, rvae, mnist_trainset, mnist_testset, num_epochs = 100)\n",
    "    with open(results_path, 'wb') as handle:\n",
    "        pickle.dump(mlp_mnist_results, handle, protocol=pickle.HIGHEST_PROTOCOL)\n",
    "#     torch.save(model.state_dict(), 'saved_models/vae_rotated_mnist_classifier.pkl')    \n",
    "\n",
    "#     with open('saved_models/dict_vae_rotated_mnist_classifier.pkl', 'rb') as handle:\n",
    "#         results = pickle.load(handle)\n",
    "#     model.load_state_dict(torch.load('saved_models/vae_rotated_mnist_classifier.pkl'))\n"
   ]
  },
  {
   "cell_type": "code",
   "execution_count": null,
   "metadata": {},
   "outputs": [],
   "source": [
    "%%capture cap_f1\n",
    "# train_classifier_rave(100, 200, 'saved_models/rvae_rotation_z_100_samples_200.pkl', 'saved_models/dict_rvae_z_100_rotated_classifier_200.pkl')\n",
    "# train_classifier_rave(100, 1000, 'saved_models/rvae_rotation_z_100_samples_1000.pkl', 'saved_models/dict_rvae_z_10_rotated_classifier_1000.pkl')\n",
    "# train_classifier_rave(100, 2000, 'saved_models/rvae_rotation_z_100_samples_2000.pkl', 'saved_models/dict_rvae_z_100_rotated_classifier_2000.pkl')\n",
    "# train_classifier_rave(100, 4000, 'saved_models/rvae_rotation_z_100_samples_4000.pkl', 'saved_models/dict_rvae_z_100_rotated_classifier_4000.pkl')\n",
    "# train_classifier_rave(100, 5000, 'saved_models/rvae_rotation_z_100_samples_5000.pkl', 'saved_models/dict_rvae_z_100_rotated_classifier_5000.pkl')\n",
    "# train_classifier_rave(100, 6000, 'saved_models/rvae_rotation_z_100_samples_6000.pkl', 'saved_models/dict_rvae_z_100_rotated_classifier_6000.pkl')\n",
    "\n",
    "# train_classifier_rave(10, 200, 'saved_models/rvae_rotation_z_10_samples_200.pkl', 'saved_models/dict_rvae_z_10_rotated_classifier_200.pkl')\n",
    "# train_classifier_rave(10, 1000, 'saved_models/rvae_rotation_z_10_samples_1000.pkl', 'saved_models/dict_rvae_z_10_rotated_classifier_1000.pkl')\n",
    "# train_classifier_rave(10, 2000, 'saved_models/rvae_rotation_z_10_samples_2000.pkl', 'saved_models/dict_rvae_z_10_rotated_classifier_2000.pkl')\n",
    "# train_classifier_rave(10, 3000, 'saved_models/rvae_rotation_z_10_samples_3000.pkl', 'saved_models/dict_rvae_z_10_rotated_classifier_3000.pkl')\n",
    "# train_classifier_rave(10, 4000, 'saved_models/rvae_rotation_z_10_samples_4000.pkl', 'saved_models/dict_rvae_z_10_rotated_classifier_4000.pkl')\n",
    "# train_classifier_rave(10, 5000, 'saved_models/rvae_rotation_z_10_samples_5000.pkl', 'saved_models/dict_rvae_z_10_rotated_classifier_5000.pkl')\n",
    "# train_classifier_rave(10, 6000, 'saved_models/rvae_rotation_z_10_samples_6000.pkl', 'saved_models/dict_rvae_z_10_rotated_classifier_6000.pkl')\n",
    "\n",
    "# train_classifier_rave(2, 200, 'saved_models/rvae_rotation_z_2_samples_200.pkl', 'saved_models/dict_rvae_z_2_rotated_classifier_200.pkl')\n",
    "# train_classifier_rave(2, 1000, 'saved_models/rvae_rotation_z_2_samples_1000.pkl', 'saved_models/dict_rvae_z_2_rotated_classifier_1000.pkl')\n",
    "# train_classifier_rave(2, 2000, 'saved_models/rvae_rotation_z_2_samples_2000.pkl', 'saved_models/dict_rvae_z_2_rotated_classifier_2000.pkl')\n",
    "# train_classifier_rave(2, 3000, 'saved_models/rvae_rotation_z_2_samples_3000.pkl', 'saved_models/dict_rvae_z_2_rotated_classifier_3000.pkl')\n",
    "# train_classifier_rave(2, 4000, 'saved_models/rvae_rotation_z_2_samples_4000.pkl', 'saved_models/dict_rvae_z_2_rotated_classifier_4000.pkl')\n",
    "# train_classifier_rave(2, 5000, 'saved_models/rvae_rotation_z_2_samples_5000.pkl', 'saved_models/dict_rvae_z_2_rotated_classifier_5000.pkl')\n",
    "# train_classifier_rave(2, 6000, 'saved_models/rvae_rotation_z_2_samples_6000.pkl', 'saved_models/dict_rvae_z_2_rotated_classifier_6000.pkl')\n",
    "\n"
   ]
  },
  {
   "cell_type": "code",
   "execution_count": null,
   "metadata": {},
   "outputs": [],
   "source": []
  },
  {
   "cell_type": "code",
   "execution_count": null,
   "metadata": {},
   "outputs": [],
   "source": []
  },
  {
   "cell_type": "code",
   "execution_count": null,
   "metadata": {},
   "outputs": [],
   "source": []
  },
  {
   "cell_type": "code",
   "execution_count": 12,
   "metadata": {},
   "outputs": [
    {
     "data": {
      "image/png": "[encoded data removed]",
      "text/plain": [
       "<Figure size 432x288 with 1 Axes>"
      ]
     },
     "metadata": {
      "needs_background": "light"
     },
     "output_type": "display_data"
    }
   ],
   "source": [
    "import pickle\n",
    "with open('saved_models/dict_vae_z_100_rotated_classifier_200.pkl', 'rb') as handle:\n",
    "    vae_results_samples_200 = pickle.load(handle)['val_accs'][-1]\n",
    "with open('saved_models/dict_vae_z_100_rotated_classifier_1000.pkl', 'rb') as handle:\n",
    "    vae_results_samples_1000 = pickle.load(handle)['val_accs'][-1]\n",
    "with open('saved_models/dict_vae_z_100_rotated_classifier_2000.pkl', 'rb') as handle:\n",
    "    vae_results_samples_2000 = pickle.load(handle)['val_accs'][-1]\n",
    "with open('saved_models/dict_vae_z_100_rotated_classifier_3000.pkl', 'rb') as handle:\n",
    "    vae_results_samples_3000 = pickle.load(handle)['val_accs'][-1]\n",
    "with open('saved_models/dict_vae_z_100_rotated_classifier_4000.pkl', 'rb') as handle:\n",
    "    vae_results_samples_4000 = pickle.load(handle)['val_accs'][-1]\n",
    "with open('saved_models/dict_vae_z_100_rotated_classifier_5000.pkl', 'rb') as handle:\n",
    "    vae_results_samples_5000 = pickle.load(handle)['val_accs'][-1]\n",
    "with open('saved_models/dict_vae_z_100_rotated_classifier_6000.pkl', 'rb') as handle:\n",
    "    vae_results_samples_6000 = pickle.load(handle)['val_accs'][-1]\n",
    "    \n",
    "    \n",
    "with open('saved_models/dict_rvae_z_100_rotated_classifier_200.pkl', 'rb') as handle:\n",
    "    rvae_results_samples_200 = pickle.load(handle)['val_accs'][-1]\n",
    "with open('saved_models/dict_rvae_z_100_rotated_classifier_1000.pkl', 'rb') as handle:\n",
    "    rvae_results_samples_1000 = pickle.load(handle)['val_accs'][-1]\n",
    "with open('saved_models/dict_rvae_z_100_rotated_classifier_2000.pkl', 'rb') as handle:\n",
    "    rvae_results_samples_2000 = pickle.load(handle)['val_accs'][-1]\n",
    "with open('saved_models/dict_rvae_z_100_rotated_classifier_3000.pkl', 'rb') as handle:\n",
    "    rvae_results_samples_3000 = pickle.load(handle)['val_accs'][-1]\n",
    "with open('saved_models/dict_rvae_z_100_rotated_classifier_4000.pkl', 'rb') as handle:\n",
    "    rvae_results_samples_4000 = pickle.load(handle)['val_accs'][-1]\n",
    "with open('saved_models/dict_rvae_z_100_rotated_classifier_5000.pkl', 'rb') as handle:\n",
    "    rvae_results_samples_5000 = pickle.load(handle)['val_accs'][-1]\n",
    "with open('saved_models/dict_rvae_z_100_rotated_classifier_6000.pkl', 'rb') as handle:\n",
    "    rvae_results_samples_6000 = pickle.load(handle)['val_accs'][-1]\n",
    "\n",
    "x = [200, 1000, 2000, 3000, 4000, 5000, 6000]\n",
    "y1 = [vae_results_samples_200, vae_results_samples_1000, vae_results_samples_2000, vae_results_samples_3000, \n",
    "      vae_results_samples_4000, vae_results_samples_5000, vae_results_samples_6000]\n",
    "y2 = [rvae_results_samples_200, rvae_results_samples_1000, rvae_results_samples_2000, rvae_results_samples_3000, \n",
    "     rvae_results_samples_4000, rvae_results_samples_5000, rvae_results_samples_6000]\n",
    "plt.plot(x, y1, label = 'vae', marker='o')\n",
    "plt.plot(x, y2, label = 'rvae', marker='o')\n",
    "plt.legend(loc='lower right')\n",
    "plt.xlabel('Number of samples per class')\n",
    "plt.ylabel('Classifier Accuracy')\n",
    "plt.savefig(\"plots/sample_complexity.svg\", bbox_inches='tight')\n",
    "plt.show()"
   ]
  },
  {
   "cell_type": "code",
   "execution_count": 13,
   "metadata": {},
   "outputs": [
    {
     "data": {
      "image/png": "[encoded data removed]",
      "text/plain": [
       "<Figure size 432x288 with 1 Axes>"
      ]
     },
     "metadata": {
      "needs_background": "light"
     },
     "output_type": "display_data"
    }
   ],
   "source": [
    "import pickle\n",
    "with open('saved_models/dict_vae_z_10_rotated_classifier_200.pkl', 'rb') as handle:\n",
    "    vae_results_samples_200 = pickle.load(handle)['val_accs'][-1]\n",
    "with open('saved_models/dict_vae_z_10_rotated_classifier_1000.pkl', 'rb') as handle:\n",
    "    vae_results_samples_1000 = pickle.load(handle)['val_accs'][-1]\n",
    "with open('saved_models/dict_vae_z_10_rotated_classifier_2000.pkl', 'rb') as handle:\n",
    "    vae_results_samples_2000 = pickle.load(handle)['val_accs'][-1]\n",
    "with open('saved_models/dict_vae_z_10_rotated_classifier_3000.pkl', 'rb') as handle:\n",
    "    vae_results_samples_3000 = pickle.load(handle)['val_accs'][-1]\n",
    "with open('saved_models/dict_vae_z_10_rotated_classifier_4000.pkl', 'rb') as handle:\n",
    "    vae_results_samples_4000 = pickle.load(handle)['val_accs'][-1]\n",
    "with open('saved_models/dict_vae_z_10_rotated_classifier_5000.pkl', 'rb') as handle:\n",
    "    vae_results_samples_5000 = pickle.load(handle)['val_accs'][-1]\n",
    "with open('saved_models/dict_vae_z_10_rotated_classifier_6000.pkl', 'rb') as handle:\n",
    "    vae_results_samples_6000 = pickle.load(handle)['val_accs'][-1]\n",
    "    \n",
    "    \n",
    "with open('saved_models/dict_rvae_z_10_rotated_classifier_200.pkl', 'rb') as handle:\n",
    "    rvae_results_samples_200 = pickle.load(handle)['val_accs'][-1]\n",
    "with open('saved_models/dict_rvae_z_10_rotated_classifier_1000.pkl', 'rb') as handle:\n",
    "    rvae_results_samples_1000 = pickle.load(handle)['val_accs'][-1]\n",
    "with open('saved_models/dict_rvae_z_10_rotated_classifier_2000.pkl', 'rb') as handle:\n",
    "    rvae_results_samples_2000 = pickle.load(handle)['val_accs'][-1]\n",
    "with open('saved_models/dict_rvae_z_10_rotated_classifier_3000.pkl', 'rb') as handle:\n",
    "    rvae_results_samples_3000 = pickle.load(handle)['val_accs'][-1]\n",
    "with open('saved_models/dict_rvae_z_10_rotated_classifier_4000.pkl', 'rb') as handle:\n",
    "    rvae_results_samples_4000 = pickle.load(handle)['val_accs'][-1]\n",
    "with open('saved_models/dict_rvae_z_10_rotated_classifier_5000.pkl', 'rb') as handle:\n",
    "    rvae_results_samples_5000 = pickle.load(handle)['val_accs'][-1]\n",
    "with open('saved_models/dict_rvae_z_10_rotated_classifier_6000.pkl', 'rb') as handle:\n",
    "    rvae_results_samples_6000 = pickle.load(handle)['val_accs'][-1]\n",
    "\n",
    "x = [200, 1000, 2000, 3000, 4000, 5000, 6000]\n",
    "y1 = [vae_results_samples_200, vae_results_samples_1000, vae_results_samples_2000, vae_results_samples_3000, \n",
    "      vae_results_samples_4000, vae_results_samples_5000, vae_results_samples_6000]\n",
    "y2 = [rvae_results_samples_200, rvae_results_samples_1000, rvae_results_samples_2000, rvae_results_samples_3000, \n",
    "     rvae_results_samples_4000, rvae_results_samples_5000, rvae_results_samples_6000]\n",
    "plt.plot(x, y1, label = 'vae', marker='o')\n",
    "plt.plot(x, y2, label = 'rvae', marker='o')\n",
    "plt.legend(loc='lower right')\n",
    "plt.xlabel('Number of samples per class')\n",
    "plt.ylabel('Classifier Accuracy')\n",
    "plt.savefig(\"plots/sample_complexity_z_10.svg\", bbox_inches='tight')\n",
    "plt.show()"
   ]
  },
  {
   "cell_type": "code",
   "execution_count": 14,
   "metadata": {},
   "outputs": [
    {
     "data": {
      "image/png": "[encoded data removed]",
      "text/plain": [
       "<Figure size 432x288 with 1 Axes>"
      ]
     },
     "metadata": {
      "needs_background": "light"
     },
     "output_type": "display_data"
    }
   ],
   "source": [
    "import pickle\n",
    "with open('saved_models/dict_vae_z_2_rotated_classifier_200.pkl', 'rb') as handle:\n",
    "    vae_results_samples_200 = pickle.load(handle)['val_accs'][-1]\n",
    "with open('saved_models/dict_vae_z_2_rotated_classifier_1000.pkl', 'rb') as handle:\n",
    "    vae_results_samples_1000 = pickle.load(handle)['val_accs'][-1]\n",
    "with open('saved_models/dict_vae_z_2_rotated_classifier_2000.pkl', 'rb') as handle:\n",
    "    vae_results_samples_2000 = pickle.load(handle)['val_accs'][-1]\n",
    "with open('saved_models/dict_vae_z_2_rotated_classifier_3000.pkl', 'rb') as handle:\n",
    "    vae_results_samples_3000 = pickle.load(handle)['val_accs'][-1]\n",
    "with open('saved_models/dict_vae_z_2_rotated_classifier_4000.pkl', 'rb') as handle:\n",
    "    vae_results_samples_4000 = pickle.load(handle)['val_accs'][-1]\n",
    "with open('saved_models/dict_vae_z_2_rotated_classifier_5000.pkl', 'rb') as handle:\n",
    "    vae_results_samples_5000 = pickle.load(handle)['val_accs'][-1]\n",
    "with open('saved_models/dict_vae_z_2_rotated_classifier_6000.pkl', 'rb') as handle:\n",
    "    vae_results_samples_6000 = pickle.load(handle)['val_accs'][-1]\n",
    "    \n",
    "    \n",
    "with open('saved_models/dict_rvae_z_2_rotated_classifier_200.pkl', 'rb') as handle:\n",
    "    rvae_results_samples_200 = pickle.load(handle)['val_accs'][-1]\n",
    "with open('saved_models/dict_rvae_z_2_rotated_classifier_1000.pkl', 'rb') as handle:\n",
    "    rvae_results_samples_1000 = pickle.load(handle)['val_accs'][-1]\n",
    "with open('saved_models/dict_rvae_z_2_rotated_classifier_2000.pkl', 'rb') as handle:\n",
    "    rvae_results_samples_2000 = pickle.load(handle)['val_accs'][-1]\n",
    "with open('saved_models/dict_rvae_z_2_rotated_classifier_3000.pkl', 'rb') as handle:\n",
    "    rvae_results_samples_3000 = pickle.load(handle)['val_accs'][-1]\n",
    "with open('saved_models/dict_rvae_z_2_rotated_classifier_4000.pkl', 'rb') as handle:\n",
    "    rvae_results_samples_4000 = pickle.load(handle)['val_accs'][-1]\n",
    "with open('saved_models/dict_rvae_z_2_rotated_classifier_5000.pkl', 'rb') as handle:\n",
    "    rvae_results_samples_5000 = pickle.load(handle)['val_accs'][-1]\n",
    "with open('saved_models/dict_rvae_z_2_rotated_classifier_6000.pkl', 'rb') as handle:\n",
    "    rvae_results_samples_6000 = pickle.load(handle)['val_accs'][-1]\n",
    "\n",
    "x = [200, 1000, 2000, 3000, 4000, 5000, 6000]\n",
    "y1 = [vae_results_samples_200, vae_results_samples_1000, vae_results_samples_2000, vae_results_samples_3000, \n",
    "      vae_results_samples_4000, vae_results_samples_5000, vae_results_samples_6000]\n",
    "y2 = [rvae_results_samples_200, rvae_results_samples_1000, rvae_results_samples_2000, rvae_results_samples_3000, \n",
    "     rvae_results_samples_4000, rvae_results_samples_5000, rvae_results_samples_6000]\n",
    "plt.plot(x, y1, label = 'vae', marker='o')\n",
    "plt.plot(x, y2, label = 'rvae', marker='o')\n",
    "plt.legend(loc='lower right')\n",
    "plt.xlabel('Number of samples per class')\n",
    "plt.ylabel('Classifier Accuracy')\n",
    "plt.savefig(\"plots/sample_complexity_z_2.svg\", bbox_inches='tight')\n",
    "plt.show()"
   ]
  },
  {
   "cell_type": "code",
   "execution_count": null,
   "metadata": {},
   "outputs": [],
   "source": []
  }
 ],
 "metadata": {
  "accelerator": "GPU",
  "colab": {
   "provenance": [],
   "toc_visible": true
  },
  "kernelspec": {
   "display_name": "Python 3 (ipykernel)",
   "language": "python",
   "name": "python3"
  },
  "language_info": {
   "codemirror_mode": {
    "name": "ipython",
    "version": 3
   },
   "file_extension": ".py",
   "mimetype": "text/x-python",
   "name": "python",
   "nbconvert_exporter": "python",
   "pygments_lexer": "ipython3",
   "version": "3.11.1"
  },
  "latex_envs": {
   "LaTeX_envs_menu_present": true,
   "autoclose": false,
   "autocomplete": true,
   "bibliofile": "biblio.bib",
   "cite_by": "apalike",
   "current_citInitial": 1,
   "eqLabelWithNumbers": true,
   "eqNumInitial": 1,
   "hotkeys": {
    "equation": "Ctrl-E",
    "itemize": "Ctrl-I"
   },
   "labels_anchors": false,
   "latex_user_defs": false,
   "report_style_numbering": false,
   "user_envs_cfg": false
  },
  "toc": {
   "base_numbering": 1,
   "nav_menu": {},
   "number_sections": true,
   "sideBar": true,
   "skip_h1_title": false,
   "title_cell": "Table of Contents",
   "title_sidebar": "Contents",
   "toc_cell": false,
   "toc_position": {},
   "toc_section_display": true,
   "toc_window_display": false
  }
 },
 "nbformat": 4,
 "nbformat_minor": 4
}
