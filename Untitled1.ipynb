{
 "cells": [
  {
   "cell_type": "code",
   "execution_count": 1,
   "id": "ac26dd4e-1317-4784-944d-5b74b5471696",
   "metadata": {
    "tags": []
   },
   "outputs": [
    {
     "name": "stdout",
     "output_type": "stream",
     "text": [
      "Using downloaded and verified file: data/MedMNIST/pathmnist.npz\n",
      "Using downloaded and verified file: data/MedMNIST/pathmnist.npz\n",
      "True\n",
      "1.11.0+cu113\n",
      "4\n"
     ]
    }
   ],
   "source": [
    "from typing import Optional, Tuple, Type, Union\n",
    "\n",
    "import matplotlib.pyplot as plt\n",
    "import seaborn as sns\n",
    "import numpy as np\n",
    "import pyro\n",
    "import pyro.distributions as dist\n",
    "import pyro.infer as infer\n",
    "import pyro.optim as optim\n",
    "import torch\n",
    "import torch.nn as nn\n",
    "from scipy.stats import norm\n",
    "from torchvision import datasets, transforms\n",
    "from torchvision.utils import make_grid\n",
    "\n",
    "import medmnist\n",
    "\n",
    "import warnings\n",
    "warnings.filterwarnings(\"ignore\", module=\"torchvision.datasets\")\n",
    "\n",
    "from src.models import *\n",
    "from src.functions import *\n",
    "from src.data import *\n",
    "from src.rvae import *\n",
    "from src.trainer import *\n",
    "from src.classifier import *\n",
    "from src.steps import *\n",
    "\n",
    "%load_ext autoreload\n",
    "%autoreload 3\n",
    "\n",
    "path_trainset = medmnist.PathMNIST(root='data/MedMNIST/', split='train', download=True)\n",
    "path_testset = medmnist.PathMNIST(root='data/MedMNIST/', split='test', download=True)\n",
    "\n",
    "print(torch.cuda.is_available())\n",
    "print(torch.__version__)\n",
    "print(torch.cuda.device_count())"
   ]
  },
  {
   "cell_type": "code",
   "execution_count": null,
   "id": "bbdbf611-f9ea-4c2a-b2a4-863411e58ff8",
   "metadata": {
    "tags": []
   },
   "outputs": [
    {
     "name": "stderr",
     "output_type": "stream",
     "text": [
      "/u/jcob/Domain-Generalisation-in-Invariance/src/data.py:74: UserWarning: Creating a tensor from a list of numpy.ndarrays is extremely slow. Please consider converting the list to a single numpy.ndarray with numpy.array() before converting to a tensor. (Triggered internally at  ../torch/csrc/utils/tensor_new.cpp:210.)\n",
      "  return torch.cat(data), torch.tensor(labels), torch.tensor(angles), torch.tensor(shifts)\n",
      "/usr/local/lib/python3.10/dist-packages/torch/functional.py:568: UserWarning: torch.meshgrid: in an upcoming release, it will be required to pass the indexing argument. (Triggered internally at  ../aten/src/ATen/native/TensorShape.cpp:2228.)\n",
      "  return _VF.meshgrid(tensors, **kwargs)  # type: ignore[attr-defined]\n",
      "100%|█████████████████████████████████████████████████████████████████████████████████| 100/100 [38:44<00:00, 23.25s/it]\n"
     ]
    },
    {
     "name": "stdout",
     "output_type": "stream",
     "text": [
      "Epoch: 100 Training loss: 404.9369\n"
     ]
    },
    {
     "name": "stderr",
     "output_type": "stream",
     "text": [
      "100%|█████████████████████████████████████████████████████████████████████████████████| 100/100 [39:02<00:00, 23.42s/it]\n"
     ]
    },
    {
     "name": "stdout",
     "output_type": "stream",
     "text": [
      "Epoch: 100 Training loss: 399.6361\n"
     ]
    },
    {
     "name": "stderr",
     "output_type": "stream",
     "text": [
      " 77%|███████████████████████████████████████████████████████████████▏                  | 77/100 [29:49<09:00, 23.48s/it]"
     ]
    }
   ],
   "source": [
    "# Train on half of labels for ROC curves\n",
    "\n",
    "# j = data_coord\n",
    "# i = model_coord\n",
    "\n",
    "# each model saved to 'saved_models/pathj_i_4.pkl'\n",
    "\n",
    "for j in [2]:\n",
    "    for i in [1,2,3]:\n",
    "        # continue\n",
    "        train_vae(path_trainset, f'path{j}_{i}_4', j, i, [0,1,2,3,4])"
   ]
  }
 ],
 "metadata": {
  "kernelspec": {
   "display_name": "Python 3 (ipykernel)",
   "language": "python",
   "name": "python3"
  },
  "language_info": {
   "codemirror_mode": {
    "name": "ipython",
    "version": 3
   },
   "file_extension": ".py",
   "mimetype": "text/x-python",
   "name": "python",
   "nbconvert_exporter": "python",
   "pygments_lexer": "ipython3",
   "version": "3.10.6"
  }
 },
 "nbformat": 4,
 "nbformat_minor": 5
}
